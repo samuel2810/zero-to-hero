{
 "cells": [
  {
   "cell_type": "code",
   "execution_count": 1,
   "metadata": {},
   "outputs": [
    {
     "name": "stdout",
     "output_type": "stream",
     "text": [
      "6.336362190988558\n"
     ]
    }
   ],
   "source": [
    "# here is a mathematical expression that takes 3 inputs and produces one output\n",
    "from math import sin, cos\n",
    "\n",
    "def f(a, b, c):\n",
    "  return -a**3 + sin(3*b) - 1.0/c + b**2.5 - a**0.5\n",
    "\n",
    "print(f(2, 3, 4))"
   ]
  },
  {
   "cell_type": "code",
   "execution_count": 2,
   "metadata": {},
   "outputs": [
    {
     "name": "stdout",
     "output_type": "stream",
     "text": [
      "OK for dim 0: expected -12.353553390593273, yours returns -12.353553390593273\n",
      "OK for dim 1: expected 10.25699027111255, yours returns 10.25699027111255\n",
      "OK for dim 2: expected 0.0625, yours returns 0.0625\n"
     ]
    }
   ],
   "source": [
    "# write the function df that returns the analytical gradient of f\n",
    "# i.e. use your skills from calculus to take the derivative, then implement the formula\n",
    "# if you do not calculus then feel free to ask wolframalpha, e.g.:\n",
    "# https://www.wolframalpha.com/input?i=d%2Fda%28sin%283*a%29%29%29\n",
    "\n",
    "def gradf(a, b, c):\n",
    "  return [-3*a**2 - 0.5*a**-0.5, 3*cos(3*b) + 2.5*b**1.5, 1.0/c**2] # todo, return [df/da, df/db, df/dc]\n",
    "\n",
    "# expected answer is the list of \n",
    "ans = [-12.353553390593273, 10.25699027111255, 0.0625]\n",
    "yours = gradf(2, 3, 4)\n",
    "for dim in range(3):\n",
    "  ok = 'OK' if abs(yours[dim] - ans[dim]) < 1e-5 else 'WRONG!'\n",
    "  print(f\"{ok} for dim {dim}: expected {ans[dim]}, yours returns {yours[dim]}\")\n"
   ]
  },
  {
   "cell_type": "code",
   "execution_count": 3,
   "metadata": {},
   "outputs": [
    {
     "name": "stdout",
     "output_type": "stream",
     "text": [
      "OK for dim 0: expected -12.353553390593273, yours returns -12.353559348809995\n",
      "OK for dim 1: expected 10.25699027111255, yours returns 10.256991666679482\n",
      "OK for dim 2: expected 0.0625, yours returns 0.06249843753636242\n"
     ]
    }
   ],
   "source": [
    "# now estimate the gradient numerically without any calculus, using\n",
    "# the approximation we used in the video.\n",
    "# you should not call the function df from the last cell\n",
    "\n",
    "# -----------\n",
    "numerical_grad = [(f(2+0.000001,3,4)-f(2,3,4))/0.000001, (f(2,3+0.000001,4)-f(2,3,4))/0.000001, (f(2,3,4+0.0001)-f(2,3,4))/0.0001] # TODO\n",
    "# -----------\n",
    "\n",
    "for dim in range(3):\n",
    "  ok = 'OK' if abs(numerical_grad[dim] - ans[dim]) < 1e-5 else 'WRONG!'\n",
    "  print(f\"{ok} for dim {dim}: expected {ans[dim]}, yours returns {numerical_grad[dim]}\")\n"
   ]
  },
  {
   "cell_type": "code",
   "execution_count": 4,
   "metadata": {},
   "outputs": [
    {
     "name": "stdout",
     "output_type": "stream",
     "text": [
      "OK for dim 0: expected -12.353553390593273, yours returns -12.353554401639766\n",
      "OK for dim 1: expected 10.25699027111255, yours returns 10.256994551617105\n",
      "OK for dim 2: expected 0.0625, yours returns 0.06250000390650712\n"
     ]
    }
   ],
   "source": [
    "# there is an alternative formula that provides a much better numerical \n",
    "# approximation to the derivative of a function.\n",
    "# learn about it here: https://en.wikipedia.org/wiki/Symmetric_derivative\n",
    "# implement it. confirm that for the same step size h this version gives a\n",
    "# better approximation.\n",
    "\n",
    "# -----------\n",
    "numerical_grad2 = [(f(2+0.001,3,4)-f(2-0.001,3,4))/0.002, (f(2,3+0.001,4)-f(2,3-0.001,4))/0.002, (f(2,3,4+0.001)-f(2,3,4-0.001))/0.002]\n",
    "# -----------\n",
    "\n",
    "for dim in range(3):\n",
    "  ok = 'OK' if abs(numerical_grad2[dim] - ans[dim]) < 1e-5 else 'WRONG!'\n",
    "  print(f\"{ok} for dim {dim}: expected {ans[dim]}, yours returns {numerical_grad2[dim]}\")"
   ]
  },
  {
   "cell_type": "code",
   "execution_count": 5,
   "metadata": {},
   "outputs": [],
   "source": [
    "# Value class starter code, with many functions taken out\n",
    "from math import exp, log\n",
    "\n",
    "class Value:\n",
    "    def __init__(self, data, _children=(), _op='', label=''):\n",
    "        self.data = data\n",
    "        self.grad = 0.0\n",
    "        self._backward = lambda: None\n",
    "        self._prev = set(_children)\n",
    "        self._op = _op\n",
    "        self.label = label\n",
    "\n",
    "    def __repr__(self):\n",
    "        return f\"Value(data={self.data})\"\n",
    "  \n",
    "    def __add__(self, other): # exactly as in the video\n",
    "        other = other if isinstance(other, Value) else Value(other)\n",
    "        out = Value(self.data + other.data, (self, other), '+')\n",
    "    \n",
    "        def _backward():\n",
    "            self.grad += 1.0 * out.grad\n",
    "            other.grad += 1.0 * out.grad\n",
    "        out._backward = _backward\n",
    "\n",
    "        return out\n",
    "\n",
    "    # ------\n",
    "    # TODO\n",
    "    # re-implement all the other functions needed for the exercises below\n",
    "    # your code here\n",
    "\n",
    "    def exp(self): \n",
    "        out = Value(exp(self.data), (self,), 'exp')\n",
    "        \n",
    "        def _backward():\n",
    "            self.grad += out.data * out.grad\n",
    "\n",
    "        out._backward = _backward\n",
    "        return out\n",
    "\n",
    "\n",
    "    def log(self):\n",
    "        out = Value(log(self.data), (self,), 'log')\n",
    "\n",
    "        def _backward():\n",
    "            self.grad += out.grad / self.data\n",
    "\n",
    "        out._backward = _backward\n",
    "        return out\n",
    "\n",
    "    def __truediv__(self, other):\n",
    "        other = other if isinstance(other, Value) else Value(other)\n",
    "        out = Value(self.data / other.data, (self, other), '/')\n",
    "\n",
    "        def _backward():\n",
    "            self.grad +=  out.grad / other.data\n",
    "            other.grad +=  -1 * self.data * out.grad / (other.data ** 2)\n",
    "\n",
    "        out._backward = _backward\n",
    "\n",
    "        return out\n",
    "\n",
    "    def __neg__(self): # -self\n",
    "        out = Value((self.data) * -1, (self,), '-')\n",
    "\n",
    "        def _backward():\n",
    "            self.grad += out.grad * -1\n",
    "\n",
    "        out._backward = _backward\n",
    "        return out\n",
    "    \n",
    "    def __radd__(self, other): # other + self\n",
    "        return self + other\n",
    "\n",
    "    # ------\n",
    "\n",
    "    def backward(self):\n",
    "        topo = []\n",
    "        visited = set()\n",
    "\n",
    "        def build_topo(v):\n",
    "            if v not in visited:\n",
    "                visited.add(v)\n",
    "\n",
    "                for child_v in v._prev:\n",
    "                    build_topo(child_v)\n",
    "                topo.append(v)\n",
    "        build_topo(self)\n",
    "\n",
    "        self.grad = 1.0\n",
    "        for node in reversed(topo):\n",
    "            node._backward()\n",
    "     \n"
   ]
  },
  {
   "cell_type": "code",
   "execution_count": 6,
   "metadata": {},
   "outputs": [
    {
     "name": "stdout",
     "output_type": "stream",
     "text": [
      "[Value(data=0.04177257051535045), Value(data=0.839024507462532), Value(data=0.005653302662216329), Value(data=0.11354961935990121)]\n",
      "2.1755153626167147\n",
      "OK for dim 0: expected 0.041772570515350445, yours returns 0.04177257051535045\n",
      "OK for dim 1: expected 0.8390245074625319, yours returns 0.839024507462532\n",
      "OK for dim 2: expected 0.005653302662216329, yours returns 0.00565330266221633\n",
      "OK for dim 3: expected -0.8864503806400986, yours returns -0.8864503806400988\n"
     ]
    }
   ],
   "source": [
    "# without referencing our code/video __too__ much, make this cell work\n",
    "# you'll have to implement (in some cases re-implemented) a number of functions\n",
    "# of the Value object, similar to what we've seen in the video.\n",
    "# instead of the squared error loss this implements the negative log likelihood\n",
    "# loss, which is very often used in classification.\n",
    "\n",
    "# this is the softmax function\n",
    "# https://en.wikipedia.org/wiki/Softmax_function\n",
    "def softmax(logits):\n",
    "  counts = [logit.exp() for logit in logits]\n",
    "  denominator = sum(counts)\n",
    "  out = [c / denominator for c in counts]\n",
    "  return out\n",
    "\n",
    "# this is the negative log likelihood loss function, pervasive in classification\n",
    "logits = [Value(0.0), Value(3.0), Value(-2.0), Value(1.0)]\n",
    "probs = softmax(logits)\n",
    "print(probs)\n",
    "loss = -probs[3].log() # dim 3 acts as the label for this input example\n",
    "loss.backward()\n",
    "print(loss.data)\n",
    "\n",
    "ans = [0.041772570515350445, 0.8390245074625319, 0.005653302662216329, -0.8864503806400986]\n",
    "for dim in range(4):\n",
    "  ok = 'OK' if abs(logits[dim].grad - ans[dim]) < 1e-5 else 'WRONG!'\n",
    "  print(f\"{ok} for dim {dim}: expected {ans[dim]}, yours returns {logits[dim].grad}\")\n"
   ]
  },
  {
   "cell_type": "code",
   "execution_count": 2,
   "metadata": {},
   "outputs": [
    {
     "ename": "ModuleNotFoundError",
     "evalue": "No module named 'torch'",
     "output_type": "error",
     "traceback": [
      "\u001b[0;31m---------------------------------------------------------------------------\u001b[0m",
      "\u001b[0;31mModuleNotFoundError\u001b[0m                       Traceback (most recent call last)",
      "\u001b[0;32m/var/folders/6q/lplgykzj4x960bw2n8t9nscc0000gn/T/ipykernel_1252/3507159137.py\u001b[0m in \u001b[0;36m<module>\u001b[0;34m\u001b[0m\n\u001b[0;32m----> 1\u001b[0;31m \u001b[0;32mimport\u001b[0m \u001b[0mtorch\u001b[0m\u001b[0;34m\u001b[0m\u001b[0;34m\u001b[0m\u001b[0m\n\u001b[0m\u001b[1;32m      2\u001b[0m \u001b[0;32mfrom\u001b[0m \u001b[0mtorch\u001b[0m \u001b[0;32mimport\u001b[0m \u001b[0mnn\u001b[0m\u001b[0;34m\u001b[0m\u001b[0;34m\u001b[0m\u001b[0m\n\u001b[1;32m      3\u001b[0m \u001b[0;34m\u001b[0m\u001b[0m\n\u001b[1;32m      4\u001b[0m \u001b[0mm\u001b[0m \u001b[0;34m=\u001b[0m \u001b[0mnn\u001b[0m\u001b[0;34m.\u001b[0m\u001b[0mlogSoftmax\u001b[0m\u001b[0;34m(\u001b[0m\u001b[0mdim\u001b[0m \u001b[0;34m=\u001b[0m \u001b[0;36m0\u001b[0m\u001b[0;34m)\u001b[0m\u001b[0;34m\u001b[0m\u001b[0;34m\u001b[0m\u001b[0m\n\u001b[1;32m      5\u001b[0m \u001b[0mn\u001b[0m \u001b[0;34m=\u001b[0m \u001b[0mtorch\u001b[0m\u001b[0;34m.\u001b[0m\u001b[0mTensor\u001b[0m\u001b[0;34m(\u001b[0m\u001b[0;34m[\u001b[0m\u001b[0;36m0.0\u001b[0m\u001b[0;34m,\u001b[0m \u001b[0;36m3.0\u001b[0m\u001b[0;34m,\u001b[0m \u001b[0;34m-\u001b[0m\u001b[0;36m2.0\u001b[0m\u001b[0;34m,\u001b[0m \u001b[0;36m1.0\u001b[0m\u001b[0;34m]\u001b[0m\u001b[0;34m,\u001b[0m \u001b[0mrequires_grad\u001b[0m \u001b[0;34m=\u001b[0m \u001b[0;32mTrue\u001b[0m\u001b[0;34m)\u001b[0m\u001b[0;34m\u001b[0m\u001b[0;34m\u001b[0m\u001b[0m\n",
      "\u001b[0;31mModuleNotFoundError\u001b[0m: No module named 'torch'"
     ]
    }
   ],
   "source": [
    "import torch\n",
    "from torch import nn\n",
    "\n",
    "m = nn.logSoftmax(dim = 0)\n",
    "n = torch.Tensor([0.0, 3.0, -2.0, 1.0], requires_grad = True)\n",
    "loss = m(n)[3]\n",
    "loss.backward()\n",
    "print(n.grad)"
   ]
  },
  {
   "cell_type": "code",
   "execution_count": null,
   "metadata": {},
   "outputs": [],
   "source": []
  }
 ],
 "metadata": {
  "kernelspec": {
   "display_name": "base",
   "language": "python",
   "name": "python3"
  },
  "language_info": {
   "codemirror_mode": {
    "name": "ipython",
    "version": 3
   },
   "file_extension": ".py",
   "mimetype": "text/x-python",
   "name": "python",
   "nbconvert_exporter": "python",
   "pygments_lexer": "ipython3",
   "version": "3.9.13"
  },
  "orig_nbformat": 4
 },
 "nbformat": 4,
 "nbformat_minor": 2
}
